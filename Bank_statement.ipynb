{
 "cells": [
  {
   "cell_type": "code",
   "execution_count": 4,
   "id": "841758f6",
   "metadata": {},
   "outputs": [],
   "source": [
    "import pandas as pd\n",
    "import pdfplumber\n",
    "pdf = pdfplumber.open(r'test.pdf')\n",
    "df = pd.DataFrame()\n",
    "table_settings={\"vertical_strategy\": \"text\", \n",
    "    \"horizontal_strategy\": \"lines\",\"intersection_y_tolerance\": 8}\n",
    "df = pd.DataFrame(pdf.pages[3].extract_table(table_settings))\n",
    "df.to_csv(r'test.csv')"
   ]
  },
  {
   "cell_type": "code",
   "execution_count": 5,
   "id": "b47a0826",
   "metadata": {},
   "outputs": [
    {
     "data": {
      "text/html": [
       "<div>\n",
       "<style scoped>\n",
       "    .dataframe tbody tr th:only-of-type {\n",
       "        vertical-align: middle;\n",
       "    }\n",
       "\n",
       "    .dataframe tbody tr th {\n",
       "        vertical-align: top;\n",
       "    }\n",
       "\n",
       "    .dataframe thead th {\n",
       "        text-align: right;\n",
       "    }\n",
       "</style>\n",
       "<table border=\"1\" class=\"dataframe\">\n",
       "  <thead>\n",
       "    <tr style=\"text-align: right;\">\n",
       "      <th></th>\n",
       "      <th>0</th>\n",
       "      <th>1</th>\n",
       "      <th>2</th>\n",
       "      <th>3</th>\n",
       "      <th>4</th>\n",
       "    </tr>\n",
       "  </thead>\n",
       "  <tbody>\n",
       "    <tr>\n",
       "      <th>0</th>\n",
       "      <td>Date</td>\n",
       "      <td>Description</td>\n",
       "      <td>Deposits</td>\n",
       "      <td>Withdrawals</td>\n",
       "      <td>Balance</td>\n",
       "    </tr>\n",
       "    <tr>\n",
       "      <th>1</th>\n",
       "      <td>04/13</td>\n",
       "      <td>ZELLE</td>\n",
       "      <td>$224.00</td>\n",
       "      <td></td>\n",
       "      <td>$504.06</td>\n",
       "    </tr>\n",
       "    <tr>\n",
       "      <th>2</th>\n",
       "      <td></td>\n",
       "      <td>ERICA PETERSON</td>\n",
       "      <td></td>\n",
       "      <td></td>\n",
       "      <td></td>\n",
       "    </tr>\n",
       "    <tr>\n",
       "      <th>3</th>\n",
       "      <td></td>\n",
       "      <td>0104P070IGIY</td>\n",
       "      <td></td>\n",
       "      <td></td>\n",
       "      <td></td>\n",
       "    </tr>\n",
       "    <tr>\n",
       "      <th>4</th>\n",
       "      <td>04/13</td>\n",
       "      <td>ZELLE\\nCYNTHIA ARAYA\\n0104P070IDM2</td>\n",
       "      <td>$100.00</td>\n",
       "      <td></td>\n",
       "      <td>$604.06</td>\n",
       "    </tr>\n",
       "  </tbody>\n",
       "</table>\n",
       "</div>"
      ],
      "text/plain": [
       "       0                                   1         2            3        4\n",
       "0   Date                         Description  Deposits  Withdrawals  Balance\n",
       "1  04/13                               ZELLE   $224.00               $504.06\n",
       "2                             ERICA PETERSON                                \n",
       "3                               0104P070IGIY                                \n",
       "4  04/13  ZELLE\\nCYNTHIA ARAYA\\n0104P070IDM2   $100.00               $604.06"
      ]
     },
     "execution_count": 5,
     "metadata": {},
     "output_type": "execute_result"
    }
   ],
   "source": [
    "df.head()"
   ]
  },
  {
   "cell_type": "code",
   "execution_count": 6,
   "id": "ff5e0387",
   "metadata": {},
   "outputs": [],
   "source": [
    "df = pd.read_csv('test.csv')"
   ]
  },
  {
   "cell_type": "code",
   "execution_count": 7,
   "id": "8c10a504",
   "metadata": {},
   "outputs": [
    {
     "data": {
      "text/html": [
       "<div>\n",
       "<style scoped>\n",
       "    .dataframe tbody tr th:only-of-type {\n",
       "        vertical-align: middle;\n",
       "    }\n",
       "\n",
       "    .dataframe tbody tr th {\n",
       "        vertical-align: top;\n",
       "    }\n",
       "\n",
       "    .dataframe thead th {\n",
       "        text-align: right;\n",
       "    }\n",
       "</style>\n",
       "<table border=\"1\" class=\"dataframe\">\n",
       "  <thead>\n",
       "    <tr style=\"text-align: right;\">\n",
       "      <th></th>\n",
       "      <th>Unnamed: 0</th>\n",
       "      <th>0</th>\n",
       "      <th>1</th>\n",
       "      <th>2</th>\n",
       "      <th>3</th>\n",
       "      <th>4</th>\n",
       "    </tr>\n",
       "  </thead>\n",
       "  <tbody>\n",
       "    <tr>\n",
       "      <th>0</th>\n",
       "      <td>0</td>\n",
       "      <td>Date</td>\n",
       "      <td>Description</td>\n",
       "      <td>Deposits</td>\n",
       "      <td>Withdrawals</td>\n",
       "      <td>Balance</td>\n",
       "    </tr>\n",
       "    <tr>\n",
       "      <th>1</th>\n",
       "      <td>1</td>\n",
       "      <td>04/13</td>\n",
       "      <td>ZELLE</td>\n",
       "      <td>$224.00</td>\n",
       "      <td>NaN</td>\n",
       "      <td>$504.06</td>\n",
       "    </tr>\n",
       "    <tr>\n",
       "      <th>2</th>\n",
       "      <td>2</td>\n",
       "      <td>NaN</td>\n",
       "      <td>ERICA PETERSON</td>\n",
       "      <td>NaN</td>\n",
       "      <td>NaN</td>\n",
       "      <td>NaN</td>\n",
       "    </tr>\n",
       "    <tr>\n",
       "      <th>3</th>\n",
       "      <td>3</td>\n",
       "      <td>NaN</td>\n",
       "      <td>0104P070IGIY</td>\n",
       "      <td>NaN</td>\n",
       "      <td>NaN</td>\n",
       "      <td>NaN</td>\n",
       "    </tr>\n",
       "    <tr>\n",
       "      <th>4</th>\n",
       "      <td>4</td>\n",
       "      <td>04/13</td>\n",
       "      <td>ZELLE\\nCYNTHIA ARAYA\\n0104P070IDM2</td>\n",
       "      <td>$100.00</td>\n",
       "      <td>NaN</td>\n",
       "      <td>$604.06</td>\n",
       "    </tr>\n",
       "  </tbody>\n",
       "</table>\n",
       "</div>"
      ],
      "text/plain": [
       "   Unnamed: 0      0                                   1         2  \\\n",
       "0           0   Date                         Description  Deposits   \n",
       "1           1  04/13                               ZELLE   $224.00   \n",
       "2           2    NaN                      ERICA PETERSON       NaN   \n",
       "3           3    NaN                        0104P070IGIY       NaN   \n",
       "4           4  04/13  ZELLE\\nCYNTHIA ARAYA\\n0104P070IDM2   $100.00   \n",
       "\n",
       "             3        4  \n",
       "0  Withdrawals  Balance  \n",
       "1          NaN  $504.06  \n",
       "2          NaN      NaN  \n",
       "3          NaN      NaN  \n",
       "4          NaN  $604.06  "
      ]
     },
     "execution_count": 7,
     "metadata": {},
     "output_type": "execute_result"
    }
   ],
   "source": [
    "df.head()"
   ]
  },
  {
   "cell_type": "code",
   "execution_count": 8,
   "id": "7e7a0083",
   "metadata": {},
   "outputs": [],
   "source": [
    "df.fillna(0, inplace = True)"
   ]
  },
  {
   "cell_type": "code",
   "execution_count": 15,
   "id": "f2febec6",
   "metadata": {},
   "outputs": [
    {
     "data": {
      "text/html": [
       "<div>\n",
       "<style scoped>\n",
       "    .dataframe tbody tr th:only-of-type {\n",
       "        vertical-align: middle;\n",
       "    }\n",
       "\n",
       "    .dataframe tbody tr th {\n",
       "        vertical-align: top;\n",
       "    }\n",
       "\n",
       "    .dataframe thead th {\n",
       "        text-align: right;\n",
       "    }\n",
       "</style>\n",
       "<table border=\"1\" class=\"dataframe\">\n",
       "  <thead>\n",
       "    <tr style=\"text-align: right;\">\n",
       "      <th></th>\n",
       "      <th>Unnamed: 0</th>\n",
       "      <th>0</th>\n",
       "      <th>1</th>\n",
       "      <th>2</th>\n",
       "      <th>3</th>\n",
       "      <th>4</th>\n",
       "    </tr>\n",
       "  </thead>\n",
       "  <tbody>\n",
       "    <tr>\n",
       "      <th>0</th>\n",
       "      <td>0</td>\n",
       "      <td>Date</td>\n",
       "      <td>Description</td>\n",
       "      <td>Deposits</td>\n",
       "      <td>Withdrawals</td>\n",
       "      <td>Balance</td>\n",
       "    </tr>\n",
       "    <tr>\n",
       "      <th>1</th>\n",
       "      <td>1</td>\n",
       "      <td>04/13</td>\n",
       "      <td>ZELLE</td>\n",
       "      <td>$224.00</td>\n",
       "      <td>0</td>\n",
       "      <td>$504.06</td>\n",
       "    </tr>\n",
       "    <tr>\n",
       "      <th>2</th>\n",
       "      <td>2</td>\n",
       "      <td>0</td>\n",
       "      <td>ERICA PETERSON</td>\n",
       "      <td>0</td>\n",
       "      <td>0</td>\n",
       "      <td>0</td>\n",
       "    </tr>\n",
       "    <tr>\n",
       "      <th>3</th>\n",
       "      <td>3</td>\n",
       "      <td>0</td>\n",
       "      <td>0104P070IGIY</td>\n",
       "      <td>0</td>\n",
       "      <td>0</td>\n",
       "      <td>0</td>\n",
       "    </tr>\n",
       "    <tr>\n",
       "      <th>4</th>\n",
       "      <td>4</td>\n",
       "      <td>04/13</td>\n",
       "      <td>ZELLE\\nCYNTHIA ARAYA\\n0104P070IDM2</td>\n",
       "      <td>$100.00</td>\n",
       "      <td>0</td>\n",
       "      <td>$604.06</td>\n",
       "    </tr>\n",
       "  </tbody>\n",
       "</table>\n",
       "</div>"
      ],
      "text/plain": [
       "   Unnamed: 0      0                                   1         2  \\\n",
       "0           0   Date                         Description  Deposits   \n",
       "1           1  04/13                               ZELLE   $224.00   \n",
       "2           2      0                      ERICA PETERSON         0   \n",
       "3           3      0                        0104P070IGIY         0   \n",
       "4           4  04/13  ZELLE\\nCYNTHIA ARAYA\\n0104P070IDM2   $100.00   \n",
       "\n",
       "             3        4  \n",
       "0  Withdrawals  Balance  \n",
       "1            0  $504.06  \n",
       "2            0        0  \n",
       "3            0        0  \n",
       "4            0  $604.06  "
      ]
     },
     "execution_count": 15,
     "metadata": {},
     "output_type": "execute_result"
    }
   ],
   "source": [
    "df.head()"
   ]
  },
  {
   "cell_type": "code",
   "execution_count": 9,
   "id": "10eb3b9c",
   "metadata": {},
   "outputs": [],
   "source": [
    "deposit = list(df['2'])\n",
    "deposit_list = []"
   ]
  },
  {
   "cell_type": "code",
   "execution_count": 10,
   "id": "d4041461",
   "metadata": {},
   "outputs": [],
   "source": [
    "for i in range(1, len(deposit)):\n",
    "    if isinstance(deposit[i], int):\n",
    "        deposit_list.append(deposit[i])\n",
    "    else:\n",
    "        new = deposit[i].replace('$', \"\", 1)\n",
    "        sub = \".\"\n",
    "        new2 = new[:new.index(sub) + len(sub)]\n",
    "        new2 = new2.replace('.', '', 1)\n",
    "        new2 = new2.replace(',', '', 1)\n",
    "        deposit_list.append(int(new2))"
   ]
  },
  {
   "cell_type": "code",
   "execution_count": 11,
   "id": "cb8ad1c6",
   "metadata": {},
   "outputs": [
    {
     "name": "stdout",
     "output_type": "stream",
     "text": [
      "4592\n",
      "148.1290322580645\n"
     ]
    }
   ],
   "source": [
    "su = sum(deposit_list)\n",
    "avg_deposit = su/len(deposit_list)\n",
    "print(su)\n",
    "print(avg_deposit)"
   ]
  },
  {
   "cell_type": "code",
   "execution_count": 13,
   "id": "0c78a073",
   "metadata": {},
   "outputs": [],
   "source": [
    "Withdrawals = list(df['3'])\n",
    "Withdrawals_list = []\n",
    "for i in range(1, len(Withdrawals)):\n",
    "    if isinstance(Withdrawals[i], int):\n",
    "        Withdrawals_list.append(Withdrawals[i])\n",
    "    else:\n",
    "        new = Withdrawals[i].replace('$', \"\", 1)\n",
    "        sub = \".\"\n",
    "        new2 = new[:new.index(sub) + len(sub)]\n",
    "        new2 = new2.replace('.', '', 1)\n",
    "        new2 = new2.replace(',', '', 1)\n",
    "        Withdrawals_list.append(int(new2))"
   ]
  },
  {
   "cell_type": "code",
   "execution_count": 14,
   "id": "c14ca026",
   "metadata": {},
   "outputs": [
    {
     "name": "stdout",
     "output_type": "stream",
     "text": [
      "937\n",
      "30.225806451612904\n"
     ]
    }
   ],
   "source": [
    "suu = sum(Withdrawals_list)\n",
    "avg_Withdrawals = suu/len(Withdrawals_list)\n",
    "print(suu)\n",
    "print(avg_Withdrawals)"
   ]
  },
  {
   "cell_type": "code",
   "execution_count": null,
   "id": "8c5d787b",
   "metadata": {},
   "outputs": [],
   "source": []
  }
 ],
 "metadata": {
  "kernelspec": {
   "display_name": "Python 3 (ipykernel)",
   "language": "python",
   "name": "python3"
  },
  "language_info": {
   "codemirror_mode": {
    "name": "ipython",
    "version": 3
   },
   "file_extension": ".py",
   "mimetype": "text/x-python",
   "name": "python",
   "nbconvert_exporter": "python",
   "pygments_lexer": "ipython3",
   "version": "3.9.6"
  }
 },
 "nbformat": 4,
 "nbformat_minor": 5
}
